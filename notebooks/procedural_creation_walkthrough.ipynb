{
 "cells": [
  {
   "attachments": {},
   "cell_type": "markdown",
   "metadata": {},
   "source": [
    "# Overview\n",
    "\n",
    "In this notebook, we will go through the task generation pipeline in LIBERO. We will cover the following contents:\n",
    "\n",
    "1. Retrieve a list of available objects, predicates\n",
    " in the codebase\n",
    "2. Define your own initial state distribution\n",
    "3. Define your own task goal\n",
    "4. Generate the pddl file for the task\n",
    "\n",
    "Now, let's get started!"
   ]
  },
  {
   "attachments": {},
   "cell_type": "markdown",
   "metadata": {},
   "source": [
    "## 1. Retrieve a list of objects available\n",
    "\n",
    "In order for the sucess in task generation, we need to make sure that the objects and the predicates (object relations) specified are available in the codebase."
   ]
  },
  {
   "cell_type": "code",
   "execution_count": null,
   "metadata": {},
   "outputs": [],
   "source": [
    "from libero.libero.envs.objects import get_object_dict, get_object_fn\n",
    "\n",
    "# Get a dictionary of all the objects\n",
    "object_dict = get_object_dict()\n",
    "print(object_dict)"
   ]
  },
  {
   "attachments": {},
   "cell_type": "markdown",
   "metadata": {},
   "source": [
    "Now you can see all the available objects, you can retrieve the object class by specifying their categories (which are the keys in the dictionary)"
   ]
  },
  {
   "cell_type": "code",
   "execution_count": null,
   "metadata": {},
   "outputs": [],
   "source": [
    "category_name = \"moka_pot\"\n",
    "object_cls = get_object_fn(category_name)\n",
    "print(category_name, \": defined in the class \", object_cls)"
   ]
  },
  {
   "attachments": {},
   "cell_type": "markdown",
   "metadata": {},
   "source": [
    "Similarly, you can retrieve the information about predicates."
   ]
  },
  {
   "cell_type": "code",
   "execution_count": null,
   "metadata": {},
   "outputs": [],
   "source": [
    "from libero.libero.envs.predicates import get_predicate_fn_dict, get_predicate_fn\n",
    "\n",
    "predicate_dict = get_predicate_fn_dict()\n",
    "print(predicate_dict)\n",
    "print(\"=============\")\n",
    "predicate_name = \"on\"\n",
    "print(get_predicate_fn(predicate_name))\n"
   ]
  },
  {
   "attachments": {},
   "cell_type": "markdown",
   "metadata": {},
   "source": [
    "## 2. Define your own initial state distribution"
   ]
  },
  {
   "cell_type": "code",
   "execution_count": null,
   "metadata": {},
   "outputs": [],
   "source": [
    "import numpy as np\n",
    "from libero.libero.utils.bddl_generation_utils import get_xy_region_kwargs_list_from_regions_info\n",
    "from libero.libero.utils.mu_utils import register_mu, InitialSceneTemplates\n",
    "from libero.libero.utils.task_generation_utils import register_task_info, get_task_info, generate_bddl_from_task_info\n",
    "\n",
    "@register_mu(scene_type=\"kitchen\")\n",
    "class KitchenScene1(InitialSceneTemplates):\n",
    "    def __init__(self):\n",
    "\n",
    "        fixture_num_info = {\n",
    "            \"kitchen_table\": 1,\n",
    "            \"wooden_cabinet\": 1,\n",
    "        }\n",
    "\n",
    "        object_num_info = {\n",
    "            \"akita_black_bowl\": 1,\n",
    "            \"plate\": 1,\n",
    "        }\n",
    "\n",
    "        super().__init__(\n",
    "            workspace_name=\"kitchen_table\",\n",
    "            fixture_num_info=fixture_num_info,\n",
    "            object_num_info=object_num_info\n",
    "        )\n",
    "\n",
    "    def define_regions(self):\n",
    "        self.regions.update(\n",
    "            self.get_region_dict(region_centroid_xy=[0.0, -0.30], \n",
    "                                 region_name=\"wooden_cabinet_init_region\", \n",
    "                                 target_name=self.workspace_name, \n",
    "                                 region_half_len=0.01,\n",
    "                                 yaw_rotation=(np.pi, np.pi))\n",
    "        )\n",
    "\n",
    "        self.regions.update(\n",
    "            self.get_region_dict(region_centroid_xy=[0., 0.0], \n",
    "                                 region_name=\"akita_black_bowl_init_region\", \n",
    "                                 target_name=self.workspace_name, \n",
    "                                 region_half_len=0.025)\n",
    "        )\n",
    "\n",
    "        self.regions.update(\n",
    "            self.get_region_dict(region_centroid_xy=[0.0, 0.25], \n",
    "                                 region_name=\"plate_init_region\", \n",
    "                                 target_name=self.workspace_name, \n",
    "                                 region_half_len=0.025)\n",
    "        )\n",
    "        self.xy_region_kwargs_list = get_xy_region_kwargs_list_from_regions_info(self.regions)\n",
    "\n",
    "    @property\n",
    "    def init_states(self):\n",
    "        states = [\n",
    "            (\"On\", \"akita_black_bowl_1\", \"kitchen_table_akita_black_bowl_init_region\"),\n",
    "            (\"On\", \"plate_1\", \"kitchen_table_plate_init_region\"),\n",
    "            (\"On\", \"wooden_cabinet_1\", \"kitchen_table_wooden_cabinet_init_region\")]\n",
    "        return states"
   ]
  },
  {
   "attachments": {},
   "cell_type": "markdown",
   "metadata": {},
   "source": [
    "## 3. Define your own task goal\n",
    "\n",
    "Now that you've defined the initial state distributions, you can specify a task goal based on the available objects and the potential goals it can acehive."
   ]
  },
  {
   "cell_type": "code",
   "execution_count": null,
   "metadata": {},
   "outputs": [],
   "source": [
    "scene_name = \"kitchen_scene1\"\n",
    "language = \"Your Language 1\"\n",
    "register_task_info(language,\n",
    "                    scene_name=scene_name,\n",
    "                    objects_of_interest=[\"wooden_cabinet_1\", \"akita_black_bowl_1\"],\n",
    "                    goal_states=[(\"Open\", \"wooden_cabinet_1_top_region\"), (\"In\", \"akita_black_bowl_1\", \"wooden_cabinet_1_top_region\")]\n",
    ")\n",
    "\n",
    "# Create another task with the same scene layout\n",
    "scene_name = \"kitchen_scene1\"\n",
    "language = \"Your Language 2\"\n",
    "register_task_info(language,\n",
    "                    scene_name=scene_name,\n",
    "                    objects_of_interest=[\"wooden_cabinet_1\", \"akita_black_bowl_1\"],\n",
    "                    goal_states=[(\"Open\", \"wooden_cabinet_1_top_region\"), (\"In\", \"akita_black_bowl_1\", \"wooden_cabinet_1_bottom_region\")]\n",
    ")"
   ]
  },
  {
   "attachments": {},
   "cell_type": "markdown",
   "metadata": {},
   "source": [
    "The task goals will be temporarily saved in the variable `libero.libero.utils.task_generation_utils.TASK_INFO` in the format of namedtuple `libero.libero.utils.task_generation_utils.TaskInfoTuple`. This design aims to make it easy for batch creation of tasks."
   ]
  },
  {
   "cell_type": "code",
   "execution_count": null,
   "metadata": {},
   "outputs": [],
   "source": [
    "# This is the default path to store all the pddl scene files. Here we store the files in the temporary folder. If you want to directly add files into the libero codebase, get the default path use the following commented lines:\n",
    "# from libero.libero import get_libero_path\n",
    "# YOUR_BDDL_FILE_PATH = get_libero_path(\"bddl_files\")\n",
    "\n",
    "YOUR_BDDL_FILE_PATH = \"tmp/pddl_files\"\n",
    "bddl_file_names, failures = generate_bddl_from_task_info(folder=YOUR_BDDL_FILE_PATH)\n",
    "\n",
    "print(bddl_file_names)\n",
    "\n",
    "print(\"Encountered some failures: \", failures)\n"
   ]
  },
  {
   "attachments": {},
   "cell_type": "markdown",
   "metadata": {},
   "source": [
    "Now you can see the content of the pddl file name. (Notice that we named our variable with bddl, since we are actually using the bddl package from Behavior. However, bddl is a subset of pddl, so we stick to the word PDDL for consistency in our paper writing and avoid confusion to the community.)"
   ]
  },
  {
   "cell_type": "code",
   "execution_count": null,
   "metadata": {},
   "outputs": [],
   "source": [
    "with open(bddl_file_names[0], \"r\") as f:\n",
    "    content = f.read()\n",
    "print(content)"
   ]
  }
 ],
 "metadata": {
  "kernelspec": {
   "display_name": "Python 3 (ipykernel)",
   "language": "python",
   "name": "python3"
  },
  "language_info": {
   "codemirror_mode": {
    "name": "ipython",
    "version": 3
   },
   "file_extension": ".py",
   "mimetype": "text/x-python",
   "name": "python",
   "nbconvert_exporter": "python",
   "pygments_lexer": "ipython3",
   "version": "3.10.7"
  }
 },
 "nbformat": 4,
 "nbformat_minor": 2
}
